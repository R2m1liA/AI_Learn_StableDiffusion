{
 "cells": [
  {
   "cell_type": "code",
   "execution_count": 1,
   "metadata": {},
   "outputs": [],
   "source": [
    "from transformers import CLIPTextModel, CLIPTokenizer"
   ]
  },
  {
   "cell_type": "code",
   "execution_count": 15,
   "metadata": {},
   "outputs": [],
   "source": [
    "# 文本编码\n",
    "def prompts_embedding(prompts):\n",
    "    #加载编码模型\n",
    "    tokenizer = CLIPTokenizer.from_pretrained(\"openai/clip-vit-base-patch32\")   \n",
    "    text_encoder = CLIPTextModel.from_pretrained(\"openai/clip-vit-base-patch32\")\n",
    "\n",
    "    #编码\n",
    "    text_input = tokenizer(prompts, padding=True, return_tensors=\"pt\")\n",
    "\n",
    "    text_embeddings = text_encoder(text_input.input_ids)\n",
    "    text_embeddings = text_embeddings[0]\n",
    "\n",
    "    return text_embeddings\n",
    "\n",
    "def test_embedding():\n",
    "    prompts = [\"a photograph of an astronaut riding a horse\"]\n",
    "    text_embeddings = prompts_embedding(prompts)\n",
    "    \n",
    "\n",
    "    uncond_prompts = [\"\"]\n",
    "    uncond_embeddings = prompts_embedding(uncond_prompts)\n",
    "\n",
    "    print(\"text_embeddings.shape\",text_embeddings.shape)\n",
    "    print(\"uncond_embeddings.shape\",uncond_embeddings.shape)"
   ]
  },
  {
   "cell_type": "code",
   "execution_count": 16,
   "metadata": {},
   "outputs": [
    {
     "name": "stdout",
     "output_type": "stream",
     "text": [
      "text_embeddings.shape torch.Size([1, 10, 512])\n",
      "uncond_embeddings.shape torch.Size([1, 2, 512])\n"
     ]
    }
   ],
   "source": [
    "test_embedding()"
   ]
  }
 ],
 "metadata": {
  "kernelspec": {
   "display_name": "diffusers",
   "language": "python",
   "name": "python3"
  },
  "language_info": {
   "codemirror_mode": {
    "name": "ipython",
    "version": 3
   },
   "file_extension": ".py",
   "mimetype": "text/x-python",
   "name": "python",
   "nbconvert_exporter": "python",
   "pygments_lexer": "ipython3",
   "version": "3.10.13"
  }
 },
 "nbformat": 4,
 "nbformat_minor": 2
}
