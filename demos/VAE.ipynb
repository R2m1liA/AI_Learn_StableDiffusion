{
 "cells": [
  {
   "cell_type": "markdown",
   "metadata": {},
   "source": [
    "导入环境"
   ]
  },
  {
   "cell_type": "code",
   "execution_count": 1,
   "metadata": {},
   "outputs": [],
   "source": [
    "import torch\n",
    "import torch.nn as nn\n",
    "import torch.optim as optim\n",
    "from torch.autograd import Variable"
   ]
  },
  {
   "cell_type": "code",
   "execution_count": 4,
   "metadata": {},
   "outputs": [],
   "source": [
    "# 定义VAE\n",
    "class VAE(nn.Module):\n",
    "    def __init__(self, input_size, hidden_size, latent_size):\n",
    "        super(VAE, self).__init__()\n",
    "        # 编码器\n",
    "        self.encoder = nn.Sequential(\n",
    "            nn.Linear(input_size, hidden_size),\n",
    "            nn.ReLU(),\n",
    "            nn.Linear(hidden_size, latent_size*2)\n",
    "        )\n",
    "        # 解码器\n",
    "        self.decoder = nn.Sequential(\n",
    "            nn.Linear(latent_size, hidden_size),\n",
    "            nn.ReLU(),\n",
    "            nn.Linear(hidden_size, input_size),\n",
    "            nn.Sigmoid()\n",
    "        )\n",
    "    \n",
    "    def reparameterize(self, mu, logvar):\n",
    "        std = torch.exp(0.5*logvar)\n",
    "        eps = torch.rand_like(std)\n",
    "        return mu + eps*std\n",
    "    \n",
    "    def forward(self, x):\n",
    "        # 编码\n",
    "        mu_logvar = self.encoder(x)\n",
    "        mu, logvar = torch.chunk(mu_logvar, 2, dim=1)\n",
    "        # 重参数化\n",
    "        z = self.reparameterize(mu, logvar)\n",
    "        # 解码\n",
    "        x_hat = self.decoder(z)\n",
    "        return x_hat, mu, logvar\n",
    "    \n",
    "# 定义训练函数\n",
    "def train_vae(model, train_loader, num_epochs, learning_rate):\n",
    "    criterion = nn.BCELoss()\n",
    "    optimizer = optim.Adam(model.parameters(), lr=learning_rate)\n",
    "\n",
    "    model.train()\n",
    "\n",
    "    for epoch in range(num_epochs):\n",
    "        total_loss = 0.0\n",
    "\n",
    "        for data in train_loader:\n",
    "            images, _ = data\n",
    "            images = images.view(images.size(0), -1) # 将图片展开成 784 维向量\n",
    "            optimizer.zero_grad()  # 梯度清零\n",
    "\n",
    "            # 前向传播\n",
    "            outputs, mu, logvar = model(images)\n",
    "\n",
    "            # 计算损失\n",
    "            reconstruction_loss = criterion(outputs, images)\n",
    "            kl_divergence = -0.5 * torch.sum(1 + logvar - mu.pow(2) - logvar.exp())\n",
    "\n",
    "            # 计算总损失\n",
    "            total_loss = reconstruction_loss + kl_divergence\n",
    "\n",
    "            # 反向传播\n",
    "            total_loss.backward()\n",
    "            optimizer.step()\n",
    "\n",
    "            total_loss += total_loss.item()\n",
    "        \n",
    "        # 输出损失\n",
    "        print(\"Epoch: {}, Loss: {:.4f}\".format(epoch + 1, total_loss/len(train_loader)))\n",
    "\n",
    "    print('Train finished')"
   ]
  },
  {
   "cell_type": "markdown",
   "metadata": {},
   "source": [
    "Linear: 对与输入数据X执行操作$y = xA^T + b$其中A是模块的权重，b是模块的偏置，这两个值是在模块初始化中随机生成的"
   ]
  },
  {
   "cell_type": "code",
   "execution_count": 5,
   "metadata": {},
   "outputs": [
    {
     "name": "stdout",
     "output_type": "stream",
     "text": [
      "Epoch: 1, Loss: 0.0011\n",
      "Epoch: 2, Loss: 0.0011\n",
      "Epoch: 3, Loss: 0.0011\n",
      "Epoch: 4, Loss: 0.0011\n",
      "Epoch: 5, Loss: 0.0011\n",
      "Epoch: 6, Loss: 0.0011\n",
      "Epoch: 7, Loss: 0.0011\n",
      "Epoch: 8, Loss: 0.0011\n",
      "Epoch: 9, Loss: 0.0011\n",
      "Epoch: 10, Loss: 0.0012\n",
      "Train finished\n"
     ]
    }
   ],
   "source": [
    "# 设置超参数\n",
    "input_size = 784\n",
    "hidden_size = 256\n",
    "latent_size = 64\n",
    "num_epochs = 10\n",
    "learning_rate = 1e-3\n",
    "\n",
    "# 加载MNISt数据集\n",
    "from torchvision import datasets, transforms\n",
    "train_dataset = datasets.MNIST(root='./data', train=True, transform=transforms.ToTensor(), download=True)\n",
    "train_loader = torch.utils.data.DataLoader(dataset=train_dataset, batch_size=128, shuffle=True)\n",
    "\n",
    "# 创建模型\n",
    "model = VAE(input_size, hidden_size, latent_size)\n",
    "\n",
    "# 训练模型\n",
    "train_vae(model, train_loader, num_epochs, learning_rate)"
   ]
  }
 ],
 "metadata": {
  "kernelspec": {
   "display_name": "diffusers",
   "language": "python",
   "name": "python3"
  },
  "language_info": {
   "codemirror_mode": {
    "name": "ipython",
    "version": 3
   },
   "file_extension": ".py",
   "mimetype": "text/x-python",
   "name": "python",
   "nbconvert_exporter": "python",
   "pygments_lexer": "ipython3",
   "version": "3.10.13"
  }
 },
 "nbformat": 4,
 "nbformat_minor": 2
}
